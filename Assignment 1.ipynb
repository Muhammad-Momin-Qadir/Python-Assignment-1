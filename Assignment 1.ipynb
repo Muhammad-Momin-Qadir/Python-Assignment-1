{
 "cells": [
  {
   "cell_type": "code",
   "execution_count": 4,
   "metadata": {},
   "outputs": [
    {
     "name": "stdout",
     "output_type": "stream",
     "text": [
      "Q 1: Write a Python program to print the following string in a specific format.\n",
      "                                 \n",
      "Twinkle, twinkle, little star,\n",
      "      How I wonder what you are!\n",
      "            Up above the world so high,\n",
      "            Like a diamond in the sky.\n",
      " Twinkle, twinkle, little star,\n",
      "       How I wonder what you are\n"
     ]
    }
   ],
   "source": [
    "print (\"Q 1: Write a Python program to print the following string in a specific format.\")\n",
    "print (\"                                 \")\n",
    "print (\"Twinkle, twinkle, little star,\")\n",
    "print (\"      How I wonder what you are!\")\n",
    "print (\"            Up above the world so high,\")\n",
    "print (\"            Like a diamond in the sky.\")\n",
    "print (\" Twinkle, twinkle, little star,\")\n",
    "print (\"       How I wonder what you are\")"
   ]
  },
  {
   "cell_type": "code",
   "execution_count": 7,
   "metadata": {},
   "outputs": [
    {
     "name": "stdout",
     "output_type": "stream",
     "text": [
      "Q 2: Write a Python program to get the Python version you are using.\n",
      "                                           \n",
      "Python Version\n",
      "3.7.4 (default, Aug  9 2019, 18:34:13) [MSC v.1915 64 bit (AMD64)]\n",
      "Current Version info.\n",
      "sys.version_info(major=3, minor=7, micro=4, releaselevel='final', serial=0)\n"
     ]
    }
   ],
   "source": [
    "print (\"Q 2: Write a Python program to get the Python version you are using.\")\n",
    "print (\"                                           \")\n",
    "import sys\n",
    "print(\"Python Version\")\n",
    "print (sys.version)\n",
    "print(\"Current Version info.\")\n",
    "print (sys.version_info)"
   ]
  },
  {
   "cell_type": "code",
   "execution_count": 9,
   "metadata": {},
   "outputs": [
    {
     "name": "stdout",
     "output_type": "stream",
     "text": [
      "Q 3: Write a Python program to display the current date and time.\n",
      "                                           \n",
      "Current Date and Time : \n",
      "2019-11-05 19:23:50\n"
     ]
    }
   ],
   "source": [
    "print (\"Q 3: Write a Python program to display the current date and time.\")\n",
    "print (\"                                           \")\n",
    "import datetime\n",
    "now = datetime.datetime.now()\n",
    "print (\"Current Date and Time : \")\n",
    "print (now.strftime(\"%Y-%m-%d %H:%M:%S\"))"
   ]
  },
  {
   "cell_type": "code",
   "execution_count": 4,
   "metadata": {},
   "outputs": [
    {
     "name": "stdout",
     "output_type": "stream",
     "text": [
      "What is the radius of the circle : 2\n",
      "The area of the circle with radius 2.0 is: 12.566370614359172\n"
     ]
    }
   ],
   "source": [
    "from math import pi\n",
    "r = float(input (\"What is the radius of the circle : \"))\n",
    "print (\"The area of the circle with radius \" + str(r) + \" is: \" + str(pi * r**2))"
   ]
  },
  {
   "cell_type": "code",
   "execution_count": 6,
   "metadata": {},
   "outputs": [
    {
     "name": "stdout",
     "output_type": "stream",
     "text": [
      "Q 5: Write a Python program which accepts the user's first and last name and print them in reverse order with a space between them.\n",
      "                                           \n",
      "Please enter your first name :Muhammad Momin\n",
      "Please enter your last name :Qadir\n",
      "                           \n",
      "Qadir Muhammad Momin\n"
     ]
    }
   ],
   "source": [
    "print (\"Q 5: Write a Python program which accepts the user's first and last name and print them in reverse order with a space between them.\")\n",
    "print (\"                                           \")\n",
    "first_name = input (\"Please enter your first name :\")\n",
    "last_name = input (\"Please enter your last name :\")\n",
    "print (\"                           \")\n",
    "print (last_name + \" \" + first_name)"
   ]
  },
  {
   "cell_type": "code",
   "execution_count": 8,
   "metadata": {},
   "outputs": [
    {
     "name": "stdout",
     "output_type": "stream",
     "text": [
      "Q 6: Write a python program which takes two inputs from user and print them addition.\n",
      "                                           \n",
      "Hi Momin, enter your 1st value :5\n",
      "Hi Momin, enter your 2nd value :9\n",
      "14\n"
     ]
    }
   ],
   "source": [
    "print (\"Q 6: Write a python program which takes two inputs from user and print them addition.\")\n",
    "print (\"                                           \")\n",
    "a = int(input(\"Hi Momin, enter your 1st value :\"))\n",
    "b = int(input(\"Hi Momin, enter your 2nd value :\"))\n",
    "c = a+b\n",
    "print(c)"
   ]
  },
  {
   "cell_type": "code",
   "execution_count": null,
   "metadata": {},
   "outputs": [],
   "source": []
  }
 ],
 "metadata": {
  "kernelspec": {
   "display_name": "Python 3",
   "language": "python",
   "name": "python3"
  },
  "language_info": {
   "codemirror_mode": {
    "name": "ipython",
    "version": 3
   },
   "file_extension": ".py",
   "mimetype": "text/x-python",
   "name": "python",
   "nbconvert_exporter": "python",
   "pygments_lexer": "ipython3",
   "version": "3.7.4"
  }
 },
 "nbformat": 4,
 "nbformat_minor": 2
}
